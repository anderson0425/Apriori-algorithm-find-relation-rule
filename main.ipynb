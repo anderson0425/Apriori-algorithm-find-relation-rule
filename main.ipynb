{
 "cells": [
  {
   "attachments": {
    "image.png": {
     "image/png": "[encoded data removed]"
    }
   },
   "cell_type": "markdown",
   "id": "32add9cd",
   "metadata": {},
   "source": [
    "# 題目\n",
    "請以Apriori演算法，\n",
    "以附檔為DATA、\n",
    "支持度=0.4、信賴度=0.8，\n",
    "找出強關聯規則並列出，列出型式仿照上課PPT即可。\n",
    "\n",
    "須包含item、condfidence、support、lift等資訊\n",
    "\n",
    "![image.png](attachment:image.png)"
   ]
  },
  {
   "cell_type": "markdown",
   "id": "487e7d9a",
   "metadata": {},
   "source": [
    "## import所需套件"
   ]
  },
  {
   "cell_type": "code",
   "execution_count": 1,
   "id": "8b927112",
   "metadata": {},
   "outputs": [],
   "source": [
    "from apyori import apriori"
   ]
  },
  {
   "cell_type": "markdown",
   "id": "0d218648",
   "metadata": {},
   "source": [
    "## 資料前處理\n",
    "\n",
    "- 為了產生符合apriori函式所需的測資格式\n",
    "\n",
    "```python\n",
    "data = [\n",
    "    ['a', 'c', 'd'], \n",
    "    ['b', 'c', 'e'],\n",
    "    ['a', 'b', 'c', 'e'], \n",
    "    ['b', 'e']\n",
    "]\n",
    "```"
   ]
  },
  {
   "cell_type": "code",
   "execution_count": 2,
   "id": "326f748d",
   "metadata": {},
   "outputs": [],
   "source": [
    "import csv\n",
    "\n",
    "#讀取csv檔案\n",
    "file = open('./Apriori-set.csv')\n",
    "reader = csv.reader(file)\n",
    "\n",
    "\n",
    "#將資料類型轉為list\n",
    "#此時是一個list內含許多String，且包含id，但id可由index得知，故可省略\n",
    "data_initial = list(reader)  #list\n",
    "file.close()\n",
    "\n",
    "#開始轉換為一個list內含許多小lists，每個小list又包含許多char\n",
    "#移除csv第一行的id項\n",
    "c=0\n",
    "data = []\n",
    "for r in data_initial:\n",
    "    if c!=0:\n",
    "        data.append(list(r[1]))  ##list data內放入csv第2行的items項\n",
    "        c=c+1\n",
    "#        if c==6: #FIXME:\n",
    "#            break \n",
    "    if c==0:  ##避免放入csv第1列的標題\n",
    "        c=c+1 \n",
    "    \n",
    "#此時生成的data，已經經過資料前處理成可以放入apriori函式的規格了"
   ]
  },
  {
   "cell_type": "markdown",
   "id": "2dee6a60",
   "metadata": {},
   "source": [
    "印出csv的有效資料的欄數"
   ]
  },
  {
   "cell_type": "code",
   "execution_count": 3,
   "id": "10ee3d20",
   "metadata": {},
   "outputs": [
    {
     "data": {
      "text/plain": [
       "1000"
      ]
     },
     "execution_count": 3,
     "metadata": {},
     "output_type": "execute_result"
    }
   ],
   "source": [
    "len(data)"
   ]
  },
  {
   "cell_type": "markdown",
   "id": "ca4ed66b",
   "metadata": {},
   "source": [
    "此時生成的data，已經經過資料前處理成可以放入apriori函式的規格了"
   ]
  },
  {
   "cell_type": "markdown",
   "id": "c31ba256",
   "metadata": {},
   "source": [
    "## apriori分析data，找出強關聯規則"
   ]
  },
  {
   "cell_type": "markdown",
   "id": "6955de16",
   "metadata": {},
   "source": [
    "使用apriori函式去分析data的關聯規則，\n",
    "並將最小支持度設為0.4，\n",
    "最小信賴度設為80%。\n",
    "接著再把得到的結果轉型為list型別。"
   ]
  },
  {
   "cell_type": "code",
   "execution_count": 4,
   "id": "847d3ecb",
   "metadata": {},
   "outputs": [],
   "source": [
    "association_rules = apriori(data, min_support=0.4, min_confidence=0.8)\n",
    "association_results = list(association_rules)"
   ]
  },
  {
   "cell_type": "code",
   "execution_count": 7,
   "id": "01a2ff3d",
   "metadata": {},
   "outputs": [
    {
     "data": {
      "text/plain": [
       "[RelationRecord(items=frozenset({'O', 'S'}), support=0.459, ordered_statistics=[OrderedStatistic(items_base=frozenset({'S'}), items_add=frozenset({'O'}), confidence=0.8109540636042404, lift=1.3744984128885431)]),\n",
       " RelationRecord(items=frozenset({'Y', 'O'}), support=0.467, ordered_statistics=[OrderedStatistic(items_base=frozenset({'Y'}), items_add=frozenset({'O'}), confidence=0.8065630397236616, lift=1.3670559995316298)]),\n",
       " RelationRecord(items=frozenset({'Y', 'S'}), support=0.461, ordered_statistics=[OrderedStatistic(items_base=frozenset({'S'}), items_add=frozenset({'Y'}), confidence=0.814487632508834, lift=1.4067143912069673)]),\n",
       " RelationRecord(items=frozenset({'Y', 'O', 'S'}), support=0.421, ordered_statistics=[OrderedStatistic(items_base=frozenset({'O', 'S'}), items_add=frozenset({'Y'}), confidence=0.9172113289760347, lift=1.5841301018584366), OrderedStatistic(items_base=frozenset({'Y', 'O'}), items_add=frozenset({'S'}), confidence=0.9014989293361884, lift=1.5927542921134072), OrderedStatistic(items_base=frozenset({'Y', 'S'}), items_add=frozenset({'O'}), confidence=0.9132321041214749, lift=1.5478510239347034)])]"
      ]
     },
     "execution_count": 7,
     "metadata": {},
     "output_type": "execute_result"
    }
   ],
   "source": [
    "association_results"
   ]
  },
  {
   "cell_type": "markdown",
   "id": "bc1ccf73",
   "metadata": {},
   "source": [
    "## 印出結果--強關聯規則"
   ]
  },
  {
   "cell_type": "markdown",
   "id": "4d29ccc3",
   "metadata": {},
   "source": [
    "把得到的association_result利用Python的語法轉換成想要Print的形式"
   ]
  },
  {
   "cell_type": "code",
   "execution_count": 6,
   "id": "4a6b2adf",
   "metadata": {},
   "outputs": [
    {
     "name": "stdout",
     "output_type": "stream",
     "text": [
      "items_base:  ['S']\n",
      "items_add:  ['O']\n",
      "confidence:  0.8109540636042404\n",
      "lift:  1.3744984128885431\n",
      "support:  0.459\n",
      "*****\n",
      "items_base:  ['Y']\n",
      "items_add:  ['O']\n",
      "confidence:  0.8065630397236616\n",
      "lift:  1.3670559995316298\n",
      "support:  0.467\n",
      "*****\n",
      "items_base:  ['S']\n",
      "items_add:  ['Y']\n",
      "confidence:  0.814487632508834\n",
      "lift:  1.4067143912069673\n",
      "support:  0.461\n",
      "*****\n",
      "items_base:  ['O', 'S']\n",
      "items_add:  ['Y']\n",
      "confidence:  0.9172113289760347\n",
      "lift:  1.5841301018584366\n",
      "items_base:  ['Y', 'O']\n",
      "items_add:  ['S']\n",
      "confidence:  0.9014989293361884\n",
      "lift:  1.5927542921134072\n",
      "items_base:  ['Y', 'S']\n",
      "items_add:  ['O']\n",
      "confidence:  0.9132321041214749\n",
      "lift:  1.5478510239347034\n",
      "support:  0.421\n",
      "*****\n"
     ]
    }
   ],
   "source": [
    "for item in association_results:\n",
    "    li_item = list(item)\n",
    "    for i in li_item[2] :\n",
    "        a = list(i) \n",
    "        print('items_base: ', list((a[0]))) \n",
    "        print('items_add: ', list((a[1]))) \n",
    "        print('confidence: ', a[2])\n",
    "        print('lift: ', a[3]) \n",
    "    print(\"support: \", li_item[1]) \n",
    "    print(\"*****\")"
   ]
  }
 ],
 "metadata": {
  "kernelspec": {
   "display_name": "Python 3 (ipykernel)",
   "language": "python",
   "name": "python3"
  },
  "language_info": {
   "codemirror_mode": {
    "name": "ipython",
    "version": 3
   },
   "file_extension": ".py",
   "mimetype": "text/x-python",
   "name": "python",
   "nbconvert_exporter": "python",
   "pygments_lexer": "ipython3",
   "version": "3.8.13"
  }
 },
 "nbformat": 4,
 "nbformat_minor": 5
}
